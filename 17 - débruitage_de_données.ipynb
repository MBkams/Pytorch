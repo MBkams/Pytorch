{
  "cells": [
    {
      "cell_type": "markdown",
      "metadata": {
        "id": "l9BoIL9veHGz"
      },
      "source": [
        "# Importation des packages"
      ]
    },
    {
      "cell_type": "code",
      "execution_count": 31,
      "metadata": {
        "id": "TfdzOsOUdKwA"
      },
      "outputs": [],
      "source": [
        "import librosa, librosa.display\n",
        "import matplotlib.pyplot as plt\n",
        "import torch as torch\n",
        "from torch.utils.data import Dataset, DataLoader\n",
        "import numpy as np\n",
        "import soundfile as sf\n",
        "from torchsummary import summary"
      ]
    },
    {
      "cell_type": "markdown",
      "metadata": {
        "id": "O7EA74Ibd9Ps"
      },
      "source": [
        "Ajoutez un raccourci de ce dossier à votre google drive :\n",
        "\n",
        "https://drive.google.com/drive/folders/1VJk20mb-W_3sYbz3u6qmiFPquP03Dizc?usp=sharing"
      ]
    },
    {
      "cell_type": "code",
      "execution_count": 32,
      "metadata": {
        "id": "V8B7G8nyd7wX",
        "outputId": "9fbf6cce-0aa3-45da-9b76-b26fb8f8aa98",
        "colab": {
          "base_uri": "https://localhost:8080/"
        }
      },
      "outputs": [
        {
          "output_type": "stream",
          "name": "stdout",
          "text": [
            "Mounted at /content/drive\n"
          ]
        }
      ],
      "source": [
        "from google.colab import drive\n",
        "drive.mount('/content/drive', force_remount=True)"
      ]
    },
    {
      "cell_type": "markdown",
      "metadata": {
        "id": "y5j3LW145UWa"
      },
      "source": [
        "# Importation des données"
      ]
    },
    {
      "cell_type": "markdown",
      "source": [
        "Chemin du son sans le bruit."
      ],
      "metadata": {
        "id": "dgXyRQU7E-Yo"
      }
    },
    {
      "cell_type": "code",
      "execution_count": 33,
      "metadata": {
        "id": "RZdbrrYjd_BI"
      },
      "outputs": [],
      "source": [
        "path_without_noise = \"drive/MyDrive/denoising_sound/with_reverb/clean_fileid_44.wav\""
      ]
    },
    {
      "cell_type": "markdown",
      "source": [
        "Utilisez la fonction `load` de librosa pour importer le son sans bruit."
      ],
      "metadata": {
        "id": "YEm_cZC0Z2EG"
      }
    },
    {
      "cell_type": "code",
      "execution_count": 34,
      "metadata": {
        "id": "H1xjI6L-gMDZ"
      },
      "outputs": [],
      "source": [
        "signal, sr = librosa.load(path_without_noise)"
      ]
    },
    {
      "cell_type": "code",
      "execution_count": 35,
      "metadata": {
        "id": "9l3WGSSthD0r",
        "outputId": "2e0b0034-2c6b-41b1-ca80-357c1cf378cc",
        "colab": {
          "base_uri": "https://localhost:8080/"
        }
      },
      "outputs": [
        {
          "output_type": "execute_result",
          "data": {
            "text/plain": [
              "(220500,)"
            ]
          },
          "metadata": {},
          "execution_count": 35
        }
      ],
      "source": [
        "signal.shape"
      ]
    },
    {
      "cell_type": "markdown",
      "source": [
        "Chemin du son avec le bruit."
      ],
      "metadata": {
        "id": "x_Om_wSzFBdB"
      }
    },
    {
      "cell_type": "code",
      "execution_count": 36,
      "metadata": {
        "id": "rV0EHjbof9Qv"
      },
      "outputs": [],
      "source": [
        "path_with_noise = \"drive/MyDrive/denoising_sound/with_reverb_and_noise/clnsp17_birds_413745_3_snr2_tl-23_fileid_44.wav\""
      ]
    },
    {
      "cell_type": "markdown",
      "source": [
        "Utilisez la fonction `load` de librosa pour importer le son sans bruit."
      ],
      "metadata": {
        "id": "_WNVPImfabae"
      }
    },
    {
      "cell_type": "code",
      "execution_count": 37,
      "metadata": {
        "id": "2GuOg67yeh3o"
      },
      "outputs": [],
      "source": [
        "signal_noise, sr_noise = librosa.load(path_with_noise)"
      ]
    },
    {
      "cell_type": "code",
      "execution_count": 38,
      "metadata": {
        "id": "iG7te3e3hF3N",
        "outputId": "d614bbb7-0b7a-4f8b-f326-5231e2d60ce9",
        "colab": {
          "base_uri": "https://localhost:8080/"
        }
      },
      "outputs": [
        {
          "output_type": "execute_result",
          "data": {
            "text/plain": [
              "(220500,)"
            ]
          },
          "metadata": {},
          "execution_count": 38
        }
      ],
      "source": [
        "signal_noise.shape"
      ]
    },
    {
      "cell_type": "markdown",
      "metadata": {
        "id": "mlUP3wgz5UWc"
      },
      "source": [
        "Visualisation des données"
      ]
    },
    {
      "cell_type": "markdown",
      "source": [
        "Utilisez la fonction `waveshow` de librosa pour afficher les deux signales.\n",
        "\n",
        "Challenge : utilisez matplotlib pour afficher les graphiques cotes à cotes."
      ],
      "metadata": {
        "id": "Nvk7sIZwaeYx"
      }
    },
    {
      "cell_type": "code",
      "execution_count": 39,
      "metadata": {
        "id": "t9yTVtZ_gYuv",
        "outputId": "7a162d50-8db6-43fd-f68c-e7d02cf4bd74",
        "colab": {
          "base_uri": "https://localhost:8080/",
          "height": 486
        }
      },
      "outputs": [
        {
          "output_type": "display_data",
          "data": {
            "text/plain": [
              "<Figure size 640x480 with 1 Axes>"
            ],
            "image/png": "[encoded data removed]"
          },
          "metadata": {}
        }
      ],
      "source": [
        "l = librosa.display.waveshow(signal, sr=sr)\n",
        "la = librosa.display.waveshow(signal_noise, sr=sr_noise )\n",
        "\n",
        "plt.tight_layout()\n",
        "plt.show(la, l)"
      ]
    },
    {
      "cell_type": "markdown",
      "source": [
        "# Créer le générateur"
      ],
      "metadata": {
        "id": "h1IycfE17zXr"
      }
    },
    {
      "cell_type": "markdown",
      "source": [
        "La classe permettant de créer notre dataset personnalisé."
      ],
      "metadata": {
        "id": "BBJj_TtDFXPQ"
      }
    },
    {
      "cell_type": "code",
      "source": [
        "class CustomImageDataset(Dataset):\n",
        "    def __init__(self, x_train, y_train):\n",
        "        self.img_input = x_train\n",
        "        self.img_output = y_train\n",
        "\n",
        "    def __len__(self):\n",
        "        return len(self.img_output)\n",
        "\n",
        "    def __getitem__(self, idx):\n",
        "        image = self.img_input[idx, :, :]\n",
        "        label = self.img_output[idx, :, :]\n",
        "\n",
        "        return image, label"
      ],
      "metadata": {
        "id": "J936_r0yFW9h"
      },
      "execution_count": 40,
      "outputs": []
    },
    {
      "cell_type": "markdown",
      "source": [
        "Nous allons prendre seulement les 40960 informations de la bande son."
      ],
      "metadata": {
        "id": "YBKh7aK7FeFA"
      }
    },
    {
      "cell_type": "code",
      "source": [
        "x_training = CustomImageDataset(torch.from_numpy(np.expand_dims(np.expand_dims(signal_noise[:40960], axis=0), axis=1)),\n",
        "                                 torch.from_numpy(np.expand_dims(np.expand_dims(signal[:40960], axis=0), axis=1)))"
      ],
      "metadata": {
        "id": "UPRVXVRw4OaU"
      },
      "execution_count": 41,
      "outputs": []
    },
    {
      "cell_type": "markdown",
      "source": [
        "Utilisez la fonction `DataLoader` pour créer le générateur."
      ],
      "metadata": {
        "id": "tBecjLQPFlJE"
      }
    },
    {
      "cell_type": "code",
      "source": [
        "dataloader_train = DataLoader(x_training, batch_size=1, shuffle=True)"
      ],
      "metadata": {
        "id": "79kXqTos4boX"
      },
      "execution_count": 42,
      "outputs": []
    },
    {
      "cell_type": "markdown",
      "source": [
        "Vérifiez que les dimensions correspodent bien avec ce qui est attendu."
      ],
      "metadata": {
        "id": "UYFGCiOyFrEO"
      }
    },
    {
      "cell_type": "code",
      "source": [
        "for x, y in dataloader_train:\n",
        "  print(x.shape)\n",
        "  print(y.shape)\n",
        "\n",
        "  break"
      ],
      "metadata": {
        "id": "SyP5j8Em5sfb",
        "outputId": "6d40297e-7965-4871-c467-52564bd6cb04",
        "colab": {
          "base_uri": "https://localhost:8080/"
        }
      },
      "execution_count": 43,
      "outputs": [
        {
          "output_type": "stream",
          "name": "stdout",
          "text": [
            "torch.Size([1, 1, 40960])\n",
            "torch.Size([1, 1, 40960])\n"
          ]
        }
      ]
    },
    {
      "cell_type": "markdown",
      "metadata": {
        "id": "SaWTgHfd5UWd"
      },
      "source": [
        "# Obtenir un sur-entraînement"
      ]
    },
    {
      "cell_type": "markdown",
      "source": [
        "Vous allez entraîner des modèles pour obtenir un débruitage complet du son bruité."
      ],
      "metadata": {
        "id": "uLycLEQ3arFz"
      }
    },
    {
      "cell_type": "markdown",
      "source": [
        "# fonctions d'entraînement"
      ],
      "metadata": {
        "id": "r9xZwy9-4DKz"
      }
    },
    {
      "cell_type": "code",
      "source": [
        "def step(model:torch.nn.Sequential,\n",
        "         opt:torch.optim,\n",
        "         criterion:torch.nn.modules.loss,\n",
        "         x_train:torch.Tensor,\n",
        "         y_train:torch.Tensor)->tuple:\n",
        "  \"\"\"\n",
        "  Executes a single training step for a PyTorch model.\n",
        "  This function performs a forward pass to compute the model's predictions, calculates\n",
        "  the loss between predictions and actual target values, computes gradients for each\n",
        "  model parameter, and updates the parameters using the optimizer.\n",
        "\n",
        "  Args:\n",
        "      model (torch.nn.Sequential): The PyTorch model to train.\n",
        "      optimizer (torch.optim.Optimizer): Optimizer used to update the model's parameters.\n",
        "      criterion (torch.nn.modules.loss._Loss): Loss function used to compute the error.\n",
        "      x_train (torch.Tensor): Input training data (features).\n",
        "      y_train (torch.Tensor): Ground truth labels or target values for the training data.\n",
        "  Returns:\n",
        "      tuple: The updated model and the computed loss for the current step.\n",
        "  \"\"\"\n",
        "\n",
        "  # Réinitialisez les gradients d'optimizer à zéro avec la méthode 'zero_grad'\n",
        "  opt.zero_grad()\n",
        "\n",
        "  # Calculez les prédiction sur le jeu d'entraînement avec la méthode 'froward'\n",
        "  prediction = model.forward(x_train)\n",
        "\n",
        "  # Calculez l'erreur de prédiction avec 'criterion'\n",
        "  loss = criterion(prediction, y_train)\n",
        "\n",
        "  # Calculez les gradients avec la méthode 'backward'\n",
        "  loss.backward()\n",
        "\n",
        "  # Mettre à jour les paramètres du modèle avec la méthode 'step'\n",
        "  opt.step()\n",
        "\n",
        "  return model, loss"
      ],
      "metadata": {
        "id": "2GweSYLD4Fh1"
      },
      "execution_count": 44,
      "outputs": []
    },
    {
      "cell_type": "code",
      "source": [
        "import numpy as np\n",
        "\n",
        "def fit(model, optimizer, criterion, epoch, trainloader, testloader=None):\n",
        "    history_train_loss = []  # Initialize training loss history\n",
        "    history_test_loss = []   # Initialize test loss history if needed\n",
        "\n",
        "    for e in range(epoch):\n",
        "        train_loss_batch = 0\n",
        "\n",
        "        for images, labels in trainloader:\n",
        "            # Update weights with the 'step' function\n",
        "            model, train_loss = step(model, optimizer, criterion, images, labels)\n",
        "            train_loss_batch += train_loss.detach().numpy()\n",
        "\n",
        "        train_loss_batch /= len(trainloader.sampler)\n",
        "\n",
        "        # Append training loss\n",
        "        history_train_loss.append(train_loss_batch)\n",
        "\n",
        "        # Calculate and append test loss if testloader is provided\n",
        "        if testloader:\n",
        "            test_loss_batch = 0\n",
        "            model.eval()  # Set model to evaluation mode\n",
        "            with torch.no_grad():\n",
        "                for images, labels in testloader:\n",
        "                    _, test_loss = step(model, optimizer, criterion, images, labels)\n",
        "                    test_loss_batch += test_loss.detach().numpy()\n",
        "            test_loss_batch /= len(testloader.sampler)\n",
        "            history_test_loss.append(test_loss_batch)\n",
        "            model.train()  # Set model back to training mode\n",
        "\n",
        "        # Print progress every 100 epochs\n",
        "        if e % 100 == 0:\n",
        "            print(f'Epoch: {e}/{epoch}')\n",
        "            print('Train Loss:', np.squeeze(train_loss_batch))\n",
        "            if testloader:\n",
        "                print('Test Loss:', np.squeeze(test_loss_batch))\n",
        "            print('-------------------------------------------------------------------------------------------------')\n",
        "\n",
        "    # Return both history lists, with test loss optional\n",
        "    return model, history_train_loss, history_test_loss if testloader else None\n"
      ],
      "metadata": {
        "id": "zYXJWgzg4GI6"
      },
      "execution_count": 53,
      "outputs": []
    },
    {
      "cell_type": "markdown",
      "metadata": {
        "id": "ApvzENQW5UWd"
      },
      "source": [
        "## Première tentative"
      ]
    },
    {
      "cell_type": "markdown",
      "metadata": {
        "id": "r-yDpz4F5UWd"
      },
      "source": [
        "Initialisez un modèle qui vous serivra de baseline."
      ]
    },
    {
      "cell_type": "markdown",
      "source": [
        "Initialiser le modèle suivant:\n",
        "- Utilisez la fonction `conv_block` pour initialiser une couche de convolution en 1 dimension avec 16 filtres et activer par Relu.\n",
        "- Une couche de maxpooling avec une fenêtre de 2 et un stride de 2,\n",
        "- Utilisez la fonction `conv_block` pour initialiser une couche de convolution en 1 dimension avec 32 filtres et activer par Relu.\n",
        "- Une couche de `ConvTranspose` avec 16 filtres, une taille de filtres de 2 et un stride de 2,\n",
        "- Une dernière convolution avec un filtre.\n",
        "\n",
        "Pour ceux modèle vous allez intialisez tous vos composants dans la fonction `__init__` puis les utilisez dans le bonne ordre dans la fonction `forward`.\n",
        "\n",
        "Vous pouvez vous nspirez de la création du modèle via ce [lien](https://medium.com/analytics-vidhya/unet-implementation-in-pytorch-idiot-developer-da40d955f201)\n",
        "\n",
        "N'hésitez pas à demander de l'aide à ChatGPT qui permet d'aider à l'élaboration de ce type d'architecture."
      ],
      "metadata": {
        "id": "n12Oe56tbVAl"
      }
    },
    {
      "cell_type": "code",
      "source": [
        "import torch\n",
        "\n",
        "class UNet(torch.nn.Module):\n",
        "    def __init__(self, in_channels=1, out_channels=1):\n",
        "        super(UNet, self).__init__()\n",
        "\n",
        "        # Define conv_block as an internal method\n",
        "        def conv_block(in_channels, out_channels):\n",
        "            return torch.nn.Sequential(\n",
        "                torch.nn.Conv1d(in_channels, out_channels, kernel_size=3, padding=1),  # Use padding=1 for \"same\" effect\n",
        "                torch.nn.ReLU(inplace=True),\n",
        "            )\n",
        "\n",
        "        # Encoder (downsampling part)\n",
        "        self.encoder1 = conv_block(in_channels, 16)\n",
        "\n",
        "        # Pooling layer\n",
        "        self.pool = torch.nn.MaxPool1d(kernel_size=2, stride=2)\n",
        "\n",
        "        # Bottleneck layer\n",
        "        self.bottleneck = conv_block(16, 32)\n",
        "\n",
        "        # Decoder (upsampling part)\n",
        "        self.upconv2 = torch.nn.ConvTranspose1d(32, 16, kernel_size=2, stride=2)\n",
        "\n",
        "        # Final output layer\n",
        "        self.final_layer = torch.nn.Conv1d(32, out_channels, kernel_size=1)  # Update to 32 channels due to concatenation\n",
        "\n",
        "\n",
        "    def forward(self, x):\n",
        "        # Encoder\n",
        "        enc1 = self.encoder1(x)\n",
        "        pool1 = self.pool(enc1)\n",
        "\n",
        "        # Bottleneck\n",
        "        bottleneck = self.bottleneck(pool1)\n",
        "\n",
        "        # Decoder with skip connections\n",
        "        dec2 = self.upconv2(bottleneck)\n",
        "        cat2 = torch.cat((dec2, enc1), dim=1)\n",
        "\n",
        "        # Final layer\n",
        "        output = self.final_layer(cat2)\n",
        "\n",
        "        return output\n"
      ],
      "metadata": {
        "id": "o3EhRQJ10s3o"
      },
      "execution_count": 54,
      "outputs": []
    },
    {
      "cell_type": "markdown",
      "source": [
        "Utilisez la fonction `UNet` pour initialiser le modèle."
      ],
      "metadata": {
        "id": "wU7A_VAZIFnl"
      }
    },
    {
      "cell_type": "code",
      "source": [
        "model = UNet(1,1)"
      ],
      "metadata": {
        "id": "gRSkdxpZ3Uls"
      },
      "execution_count": 55,
      "outputs": []
    },
    {
      "cell_type": "markdown",
      "source": [
        "Utilisez la fonction `summary` pour visualisez votre modèle.\n",
        "\n",
        "A noter : Vous ne verrez pas apparaitre vos concatenations dans le summary c'est normal."
      ],
      "metadata": {
        "id": "b3sTcuvAHxU4"
      }
    },
    {
      "cell_type": "code",
      "source": [
        "summary(model, (1, 40960))"
      ],
      "metadata": {
        "id": "eZ9Z5ZyjHxJc",
        "outputId": "3d54ba76-7f7d-40ee-c383-89ef14b25b81",
        "colab": {
          "base_uri": "https://localhost:8080/"
        }
      },
      "execution_count": 56,
      "outputs": [
        {
          "output_type": "stream",
          "name": "stdout",
          "text": [
            "----------------------------------------------------------------\n",
            "        Layer (type)               Output Shape         Param #\n",
            "================================================================\n",
            "            Conv1d-1            [-1, 16, 40960]              64\n",
            "              ReLU-2            [-1, 16, 40960]               0\n",
            "         MaxPool1d-3            [-1, 16, 20480]               0\n",
            "            Conv1d-4            [-1, 32, 20480]           1,568\n",
            "              ReLU-5            [-1, 32, 20480]               0\n",
            "   ConvTranspose1d-6            [-1, 16, 40960]           1,040\n",
            "            Conv1d-7             [-1, 1, 40960]              33\n",
            "================================================================\n",
            "Total params: 2,705\n",
            "Trainable params: 2,705\n",
            "Non-trainable params: 0\n",
            "----------------------------------------------------------------\n",
            "Input size (MB): 0.16\n",
            "Forward/backward pass size (MB): 27.81\n",
            "Params size (MB): 0.01\n",
            "Estimated Total Size (MB): 27.98\n",
            "----------------------------------------------------------------\n"
          ]
        }
      ]
    },
    {
      "cell_type": "markdown",
      "source": [
        "Utilisez le modèle avec la méthode `forward`."
      ],
      "metadata": {
        "id": "W4cZNohmIK_m"
      }
    },
    {
      "cell_type": "code",
      "source": [
        "test = torch.randn(1, 1, 128)\n",
        "result = model.forward(test)\n",
        "result.shape"
      ],
      "metadata": {
        "id": "JQnLD7aN2bZJ",
        "outputId": "df3398a1-63ed-4d33-a138-722ca21a00f7",
        "colab": {
          "base_uri": "https://localhost:8080/"
        }
      },
      "execution_count": 57,
      "outputs": [
        {
          "output_type": "execute_result",
          "data": {
            "text/plain": [
              "torch.Size([1, 1, 128])"
            ]
          },
          "metadata": {},
          "execution_count": 57
        }
      ]
    },
    {
      "cell_type": "markdown",
      "source": [
        "Initialisez `criterion` avec la fonction `L1Loss`.\n",
        "\n",
        "Initialisez `optimizer` avec `Adam` et un learning rate de 0.001."
      ],
      "metadata": {
        "id": "ErnhzBgQ4Jsy"
      }
    },
    {
      "cell_type": "code",
      "source": [
        "criterion = torch.nn.L1Loss()\n",
        "optimizer = torch.optim.Adam(model.parameters(), lr=0.001)"
      ],
      "metadata": {
        "id": "TKH7ks7x39I4"
      },
      "execution_count": 58,
      "outputs": []
    },
    {
      "cell_type": "code",
      "source": [
        "epoch = 3000"
      ],
      "metadata": {
        "id": "zEtSvS9S4vkb"
      },
      "execution_count": 59,
      "outputs": []
    },
    {
      "cell_type": "markdown",
      "source": [
        "Utilisez la fonction `fit` pour entraîner le modèle."
      ],
      "metadata": {
        "id": "0Fh2Xm8cIc5K"
      }
    },
    {
      "cell_type": "code",
      "source": [
        "model, history_train_loss, history_test_loss = fit(model, optimizer, criterion, epoch, dataloader_train)"
      ],
      "metadata": {
        "id": "dfdADOP74z5t",
        "outputId": "15ac2e5c-568d-405d-9947-6cca20ed9d8d",
        "colab": {
          "base_uri": "https://localhost:8080/"
        }
      },
      "execution_count": 60,
      "outputs": [
        {
          "output_type": "stream",
          "name": "stdout",
          "text": [
            "Epoch: 0/3000\n",
            "Train Loss: 0.08089814335107803\n",
            "-------------------------------------------------------------------------------------------------\n",
            "Epoch: 100/3000\n",
            "Train Loss: 0.009653883054852486\n",
            "-------------------------------------------------------------------------------------------------\n",
            "Epoch: 200/3000\n",
            "Train Loss: 0.008609111420810223\n",
            "-------------------------------------------------------------------------------------------------\n",
            "Epoch: 300/3000\n",
            "Train Loss: 0.008339942432940006\n",
            "-------------------------------------------------------------------------------------------------\n",
            "Epoch: 400/3000\n",
            "Train Loss: 0.00820962991565466\n",
            "-------------------------------------------------------------------------------------------------\n",
            "Epoch: 500/3000\n",
            "Train Loss: 0.00809820182621479\n",
            "-------------------------------------------------------------------------------------------------\n",
            "Epoch: 600/3000\n",
            "Train Loss: 0.007950247265398502\n",
            "-------------------------------------------------------------------------------------------------\n",
            "Epoch: 700/3000\n",
            "Train Loss: 0.00779114942997694\n",
            "-------------------------------------------------------------------------------------------------\n",
            "Epoch: 800/3000\n",
            "Train Loss: 0.007617194205522537\n",
            "-------------------------------------------------------------------------------------------------\n",
            "Epoch: 900/3000\n",
            "Train Loss: 0.007501340005546808\n",
            "-------------------------------------------------------------------------------------------------\n",
            "Epoch: 1000/3000\n",
            "Train Loss: 0.007360895164310932\n",
            "-------------------------------------------------------------------------------------------------\n",
            "Epoch: 1100/3000\n",
            "Train Loss: 0.007286134175956249\n",
            "-------------------------------------------------------------------------------------------------\n",
            "Epoch: 1200/3000\n",
            "Train Loss: 0.007230049464851618\n",
            "-------------------------------------------------------------------------------------------------\n",
            "Epoch: 1300/3000\n",
            "Train Loss: 0.007178911007940769\n",
            "-------------------------------------------------------------------------------------------------\n",
            "Epoch: 1400/3000\n",
            "Train Loss: 0.007215883582830429\n",
            "-------------------------------------------------------------------------------------------------\n",
            "Epoch: 1500/3000\n",
            "Train Loss: 0.0071016340516507626\n",
            "-------------------------------------------------------------------------------------------------\n",
            "Epoch: 1600/3000\n",
            "Train Loss: 0.007181358523666859\n",
            "-------------------------------------------------------------------------------------------------\n",
            "Epoch: 1700/3000\n",
            "Train Loss: 0.0071153901517391205\n",
            "-------------------------------------------------------------------------------------------------\n",
            "Epoch: 1800/3000\n",
            "Train Loss: 0.007060299627482891\n",
            "-------------------------------------------------------------------------------------------------\n",
            "Epoch: 1900/3000\n",
            "Train Loss: 0.007033209316432476\n",
            "-------------------------------------------------------------------------------------------------\n",
            "Epoch: 2000/3000\n",
            "Train Loss: 0.00701441615819931\n",
            "-------------------------------------------------------------------------------------------------\n",
            "Epoch: 2100/3000\n",
            "Train Loss: 0.006992786191403866\n",
            "-------------------------------------------------------------------------------------------------\n",
            "Epoch: 2200/3000\n",
            "Train Loss: 0.007030645851045847\n",
            "-------------------------------------------------------------------------------------------------\n",
            "Epoch: 2300/3000\n",
            "Train Loss: 0.006993663497269154\n",
            "-------------------------------------------------------------------------------------------------\n",
            "Epoch: 2400/3000\n",
            "Train Loss: 0.006968407426029444\n",
            "-------------------------------------------------------------------------------------------------\n",
            "Epoch: 2500/3000\n",
            "Train Loss: 0.006948267575353384\n",
            "-------------------------------------------------------------------------------------------------\n",
            "Epoch: 2600/3000\n",
            "Train Loss: 0.006941884756088257\n",
            "-------------------------------------------------------------------------------------------------\n",
            "Epoch: 2700/3000\n",
            "Train Loss: 0.006935021374374628\n",
            "-------------------------------------------------------------------------------------------------\n",
            "Epoch: 2800/3000\n",
            "Train Loss: 0.006911011878401041\n",
            "-------------------------------------------------------------------------------------------------\n",
            "Epoch: 2900/3000\n",
            "Train Loss: 0.006919303443282843\n",
            "-------------------------------------------------------------------------------------------------\n"
          ]
        }
      ]
    },
    {
      "cell_type": "markdown",
      "source": [
        "Utilisez la méthode `forward` pour prédire le résultat du modèle à partir de `signal_noise_expand`"
      ],
      "metadata": {
        "id": "UIQnZlV-ekmx"
      }
    },
    {
      "cell_type": "code",
      "execution_count": 61,
      "metadata": {
        "id": "r3isbDOv6wTq"
      },
      "outputs": [],
      "source": [
        "signal_pred = model.forward(torch.from_numpy(np.expand_dims(np.expand_dims(signal_noise[:40960], axis=0), axis=1)))"
      ]
    },
    {
      "cell_type": "markdown",
      "source": [
        "Utilisez la fonction `write` du package `soundfile` pour enregistrer `signal_noise_expand`, `signal_exapnd` et `signal_pred` avec pour nom respectif `reel_1.wav`, `pred_1.wav` et `noise_1.wav`."
      ],
      "metadata": {
        "id": "V7O-gH2SeuoN"
      }
    },
    {
      "source": [
        "sf.write('reel_1.wav', signal, sr)\n",
        "sf.write('pred_1.wav', signal_pred.detach().numpy().squeeze(), sr) # Reshape to 1D array\n",
        "sf.write('noise_1.wav', signal_noise, sr_noise)"
      ],
      "cell_type": "code",
      "metadata": {
        "id": "4KIB65Fn8v4P"
      },
      "execution_count": 63,
      "outputs": []
    },
    {
      "cell_type": "markdown",
      "source": [
        "Ecoutez le résultat afin de voir s'il est satisfaiant."
      ],
      "metadata": {
        "id": "Z7qfo6B4fCob"
      }
    },
    {
      "cell_type": "markdown",
      "source": [
        "## Modèle finale"
      ],
      "metadata": {
        "id": "QWapJh3pgPAa"
      }
    },
    {
      "cell_type": "markdown",
      "source": [
        "Maintenant que vous avez construit votre baseline L'objectif de ce TP est de complexifier le modèle jusqu'à ce qu'il soit capable de débruiter parfaitement le son bruité."
      ],
      "metadata": {
        "id": "SE2qYk6lIt1i"
      }
    }
  ],
  "metadata": {
    "colab": {
      "provenance": []
    },
    "kernelspec": {
      "display_name": "Python 3",
      "name": "python3"
    },
    "language_info": {
      "codemirror_mode": {
        "name": "ipython",
        "version": 3
      },
      "file_extension": ".py",
      "mimetype": "text/x-python",
      "name": "python",
      "nbconvert_exporter": "python",
      "pygments_lexer": "ipython3",
      "version": "3.11.0"
    }
  },
  "nbformat": 4,
  "nbformat_minor": 0
}